{
 "cells": [
  {
   "cell_type": "code",
   "execution_count": 1,
   "id": "described-rachel",
   "metadata": {},
   "outputs": [],
   "source": [
    "import argparse\n",
    "import numpy as np\n",
    "import pandas as pd\n",
    "from sklearn.preprocessing import OneHotEncoder\n",
    "from sklearn.model_selection import train_test_split\n",
    "from sklearn.linear_model import LogisticRegression\n",
    "from sklearn.metrics import roc_auc_score"
   ]
  },
  {
   "cell_type": "code",
   "execution_count": 3,
   "id": "thirty-farming",
   "metadata": {},
   "outputs": [
    {
     "data": {
      "text/html": [
       "<div>\n",
       "<style scoped>\n",
       "    .dataframe tbody tr th:only-of-type {\n",
       "        vertical-align: middle;\n",
       "    }\n",
       "\n",
       "    .dataframe tbody tr th {\n",
       "        vertical-align: top;\n",
       "    }\n",
       "\n",
       "    .dataframe thead th {\n",
       "        text-align: right;\n",
       "    }\n",
       "</style>\n",
       "<table border=\"1\" class=\"dataframe\">\n",
       "  <thead>\n",
       "    <tr style=\"text-align: right;\">\n",
       "      <th></th>\n",
       "      <th>PassengerId</th>\n",
       "      <th>Survived</th>\n",
       "      <th>Pclass</th>\n",
       "      <th>Name</th>\n",
       "      <th>Sex</th>\n",
       "      <th>Age</th>\n",
       "      <th>SibSp</th>\n",
       "      <th>Parch</th>\n",
       "      <th>Ticket</th>\n",
       "      <th>Fare</th>\n",
       "      <th>Cabin</th>\n",
       "      <th>Embarked</th>\n",
       "    </tr>\n",
       "  </thead>\n",
       "  <tbody>\n",
       "    <tr>\n",
       "      <th>0</th>\n",
       "      <td>1</td>\n",
       "      <td>0</td>\n",
       "      <td>3</td>\n",
       "      <td>Braund, Mr. Owen Harris</td>\n",
       "      <td>male</td>\n",
       "      <td>22.0</td>\n",
       "      <td>1</td>\n",
       "      <td>0</td>\n",
       "      <td>A/5 21171</td>\n",
       "      <td>7.2500</td>\n",
       "      <td>NaN</td>\n",
       "      <td>S</td>\n",
       "    </tr>\n",
       "    <tr>\n",
       "      <th>1</th>\n",
       "      <td>2</td>\n",
       "      <td>1</td>\n",
       "      <td>1</td>\n",
       "      <td>Cumings, Mrs. John Bradley (Florence Briggs Th...</td>\n",
       "      <td>female</td>\n",
       "      <td>38.0</td>\n",
       "      <td>1</td>\n",
       "      <td>0</td>\n",
       "      <td>PC 17599</td>\n",
       "      <td>71.2833</td>\n",
       "      <td>C85</td>\n",
       "      <td>C</td>\n",
       "    </tr>\n",
       "    <tr>\n",
       "      <th>2</th>\n",
       "      <td>3</td>\n",
       "      <td>1</td>\n",
       "      <td>3</td>\n",
       "      <td>Heikkinen, Miss. Laina</td>\n",
       "      <td>female</td>\n",
       "      <td>26.0</td>\n",
       "      <td>0</td>\n",
       "      <td>0</td>\n",
       "      <td>STON/O2. 3101282</td>\n",
       "      <td>7.9250</td>\n",
       "      <td>NaN</td>\n",
       "      <td>S</td>\n",
       "    </tr>\n",
       "    <tr>\n",
       "      <th>3</th>\n",
       "      <td>4</td>\n",
       "      <td>1</td>\n",
       "      <td>1</td>\n",
       "      <td>Futrelle, Mrs. Jacques Heath (Lily May Peel)</td>\n",
       "      <td>female</td>\n",
       "      <td>35.0</td>\n",
       "      <td>1</td>\n",
       "      <td>0</td>\n",
       "      <td>113803</td>\n",
       "      <td>53.1000</td>\n",
       "      <td>C123</td>\n",
       "      <td>S</td>\n",
       "    </tr>\n",
       "    <tr>\n",
       "      <th>4</th>\n",
       "      <td>5</td>\n",
       "      <td>0</td>\n",
       "      <td>3</td>\n",
       "      <td>Allen, Mr. William Henry</td>\n",
       "      <td>male</td>\n",
       "      <td>35.0</td>\n",
       "      <td>0</td>\n",
       "      <td>0</td>\n",
       "      <td>373450</td>\n",
       "      <td>8.0500</td>\n",
       "      <td>NaN</td>\n",
       "      <td>S</td>\n",
       "    </tr>\n",
       "  </tbody>\n",
       "</table>\n",
       "</div>"
      ],
      "text/plain": [
       "   PassengerId  Survived  Pclass  \\\n",
       "0            1         0       3   \n",
       "1            2         1       1   \n",
       "2            3         1       3   \n",
       "3            4         1       1   \n",
       "4            5         0       3   \n",
       "\n",
       "                                                Name     Sex   Age  SibSp  \\\n",
       "0                            Braund, Mr. Owen Harris    male  22.0      1   \n",
       "1  Cumings, Mrs. John Bradley (Florence Briggs Th...  female  38.0      1   \n",
       "2                             Heikkinen, Miss. Laina  female  26.0      0   \n",
       "3       Futrelle, Mrs. Jacques Heath (Lily May Peel)  female  35.0      1   \n",
       "4                           Allen, Mr. William Henry    male  35.0      0   \n",
       "\n",
       "   Parch            Ticket     Fare Cabin Embarked  \n",
       "0      0         A/5 21171   7.2500   NaN        S  \n",
       "1      0          PC 17599  71.2833   C85        C  \n",
       "2      0  STON/O2. 3101282   7.9250   NaN        S  \n",
       "3      0            113803  53.1000  C123        S  \n",
       "4      0            373450   8.0500   NaN        S  "
      ]
     },
     "execution_count": 3,
     "metadata": {},
     "output_type": "execute_result"
    }
   ],
   "source": [
    "train_data = pd.read_csv(\"../input/titanic/train.csv\")\n",
    "train_data.head()"
   ]
  },
  {
   "cell_type": "code",
   "execution_count": 4,
   "id": "deadly-ordinary",
   "metadata": {},
   "outputs": [
    {
     "data": {
      "text/html": [
       "<div>\n",
       "<style scoped>\n",
       "    .dataframe tbody tr th:only-of-type {\n",
       "        vertical-align: middle;\n",
       "    }\n",
       "\n",
       "    .dataframe tbody tr th {\n",
       "        vertical-align: top;\n",
       "    }\n",
       "\n",
       "    .dataframe thead th {\n",
       "        text-align: right;\n",
       "    }\n",
       "</style>\n",
       "<table border=\"1\" class=\"dataframe\">\n",
       "  <thead>\n",
       "    <tr style=\"text-align: right;\">\n",
       "      <th></th>\n",
       "      <th>PassengerId</th>\n",
       "      <th>Pclass</th>\n",
       "      <th>Name</th>\n",
       "      <th>Sex</th>\n",
       "      <th>Age</th>\n",
       "      <th>SibSp</th>\n",
       "      <th>Parch</th>\n",
       "      <th>Ticket</th>\n",
       "      <th>Fare</th>\n",
       "      <th>Cabin</th>\n",
       "      <th>Embarked</th>\n",
       "    </tr>\n",
       "  </thead>\n",
       "  <tbody>\n",
       "    <tr>\n",
       "      <th>0</th>\n",
       "      <td>892</td>\n",
       "      <td>3</td>\n",
       "      <td>Kelly, Mr. James</td>\n",
       "      <td>male</td>\n",
       "      <td>34.5</td>\n",
       "      <td>0</td>\n",
       "      <td>0</td>\n",
       "      <td>330911</td>\n",
       "      <td>7.8292</td>\n",
       "      <td>NaN</td>\n",
       "      <td>Q</td>\n",
       "    </tr>\n",
       "    <tr>\n",
       "      <th>1</th>\n",
       "      <td>893</td>\n",
       "      <td>3</td>\n",
       "      <td>Wilkes, Mrs. James (Ellen Needs)</td>\n",
       "      <td>female</td>\n",
       "      <td>47.0</td>\n",
       "      <td>1</td>\n",
       "      <td>0</td>\n",
       "      <td>363272</td>\n",
       "      <td>7.0000</td>\n",
       "      <td>NaN</td>\n",
       "      <td>S</td>\n",
       "    </tr>\n",
       "    <tr>\n",
       "      <th>2</th>\n",
       "      <td>894</td>\n",
       "      <td>2</td>\n",
       "      <td>Myles, Mr. Thomas Francis</td>\n",
       "      <td>male</td>\n",
       "      <td>62.0</td>\n",
       "      <td>0</td>\n",
       "      <td>0</td>\n",
       "      <td>240276</td>\n",
       "      <td>9.6875</td>\n",
       "      <td>NaN</td>\n",
       "      <td>Q</td>\n",
       "    </tr>\n",
       "    <tr>\n",
       "      <th>3</th>\n",
       "      <td>895</td>\n",
       "      <td>3</td>\n",
       "      <td>Wirz, Mr. Albert</td>\n",
       "      <td>male</td>\n",
       "      <td>27.0</td>\n",
       "      <td>0</td>\n",
       "      <td>0</td>\n",
       "      <td>315154</td>\n",
       "      <td>8.6625</td>\n",
       "      <td>NaN</td>\n",
       "      <td>S</td>\n",
       "    </tr>\n",
       "    <tr>\n",
       "      <th>4</th>\n",
       "      <td>896</td>\n",
       "      <td>3</td>\n",
       "      <td>Hirvonen, Mrs. Alexander (Helga E Lindqvist)</td>\n",
       "      <td>female</td>\n",
       "      <td>22.0</td>\n",
       "      <td>1</td>\n",
       "      <td>1</td>\n",
       "      <td>3101298</td>\n",
       "      <td>12.2875</td>\n",
       "      <td>NaN</td>\n",
       "      <td>S</td>\n",
       "    </tr>\n",
       "  </tbody>\n",
       "</table>\n",
       "</div>"
      ],
      "text/plain": [
       "   PassengerId  Pclass                                          Name     Sex  \\\n",
       "0          892       3                              Kelly, Mr. James    male   \n",
       "1          893       3              Wilkes, Mrs. James (Ellen Needs)  female   \n",
       "2          894       2                     Myles, Mr. Thomas Francis    male   \n",
       "3          895       3                              Wirz, Mr. Albert    male   \n",
       "4          896       3  Hirvonen, Mrs. Alexander (Helga E Lindqvist)  female   \n",
       "\n",
       "    Age  SibSp  Parch   Ticket     Fare Cabin Embarked  \n",
       "0  34.5      0      0   330911   7.8292   NaN        Q  \n",
       "1  47.0      1      0   363272   7.0000   NaN        S  \n",
       "2  62.0      0      0   240276   9.6875   NaN        Q  \n",
       "3  27.0      0      0   315154   8.6625   NaN        S  \n",
       "4  22.0      1      1  3101298  12.2875   NaN        S  "
      ]
     },
     "execution_count": 4,
     "metadata": {},
     "output_type": "execute_result"
    }
   ],
   "source": [
    "test_data = pd.read_csv(\"../input/titanic/test.csv\")\n",
    "test_data.head()"
   ]
  },
  {
   "cell_type": "code",
   "execution_count": 5,
   "id": "lightweight-group",
   "metadata": {},
   "outputs": [
    {
     "data": {
      "text/html": [
       "<div>\n",
       "<style scoped>\n",
       "    .dataframe tbody tr th:only-of-type {\n",
       "        vertical-align: middle;\n",
       "    }\n",
       "\n",
       "    .dataframe tbody tr th {\n",
       "        vertical-align: top;\n",
       "    }\n",
       "\n",
       "    .dataframe thead th {\n",
       "        text-align: right;\n",
       "    }\n",
       "</style>\n",
       "<table border=\"1\" class=\"dataframe\">\n",
       "  <thead>\n",
       "    <tr style=\"text-align: right;\">\n",
       "      <th></th>\n",
       "      <th>PassengerId</th>\n",
       "      <th>Survived</th>\n",
       "    </tr>\n",
       "  </thead>\n",
       "  <tbody>\n",
       "    <tr>\n",
       "      <th>0</th>\n",
       "      <td>892</td>\n",
       "      <td>0</td>\n",
       "    </tr>\n",
       "    <tr>\n",
       "      <th>1</th>\n",
       "      <td>893</td>\n",
       "      <td>1</td>\n",
       "    </tr>\n",
       "    <tr>\n",
       "      <th>2</th>\n",
       "      <td>894</td>\n",
       "      <td>0</td>\n",
       "    </tr>\n",
       "    <tr>\n",
       "      <th>3</th>\n",
       "      <td>895</td>\n",
       "      <td>0</td>\n",
       "    </tr>\n",
       "    <tr>\n",
       "      <th>4</th>\n",
       "      <td>896</td>\n",
       "      <td>1</td>\n",
       "    </tr>\n",
       "  </tbody>\n",
       "</table>\n",
       "</div>"
      ],
      "text/plain": [
       "   PassengerId  Survived\n",
       "0          892         0\n",
       "1          893         1\n",
       "2          894         0\n",
       "3          895         0\n",
       "4          896         1"
      ]
     },
     "execution_count": 5,
     "metadata": {},
     "output_type": "execute_result"
    }
   ],
   "source": [
    "gender_data = pd.read_csv(\"../input/titanic/gender_submission.csv\")\n",
    "gender_data.head()"
   ]
  },
  {
   "cell_type": "code",
   "execution_count": 6,
   "id": "bibliographic-drunk",
   "metadata": {},
   "outputs": [],
   "source": [
    "from sklearn.ensemble import RandomForestClassifier"
   ]
  },
  {
   "cell_type": "code",
   "execution_count": 7,
   "id": "adopted-delhi",
   "metadata": {},
   "outputs": [],
   "source": [
    "y = train_data[\"Survived\"]"
   ]
  },
  {
   "cell_type": "code",
   "execution_count": 8,
   "id": "opened-gibraltar",
   "metadata": {},
   "outputs": [],
   "source": [
    "features = [\"Pclass\", \"Sex\", \"SibSp\", \"Parch\"]\n",
    "X = pd.get_dummies(train_data[features])\n",
    "X_test = pd.get_dummies(test_data[features])"
   ]
  },
  {
   "cell_type": "code",
   "execution_count": 15,
   "id": "stopped-exhaust",
   "metadata": {},
   "outputs": [],
   "source": [
    "model = RandomForestClassifier(n_estimators=100, max_depth=3, random_state=2)\n",
    "model.fit(X, y)\n",
    "predictions = model.predict(X_test)"
   ]
  },
  {
   "cell_type": "code",
   "execution_count": 29,
   "id": "removable-exhibit",
   "metadata": {},
   "outputs": [
    {
     "data": {
      "text/plain": [
       "0       892\n",
       "1       893\n",
       "2       894\n",
       "3       895\n",
       "4       896\n",
       "       ... \n",
       "413    1305\n",
       "414    1306\n",
       "415    1307\n",
       "416    1308\n",
       "417    1309\n",
       "Name: PassengerId, Length: 418, dtype: int64"
      ]
     },
     "execution_count": 29,
     "metadata": {},
     "output_type": "execute_result"
    }
   ],
   "source": [
    "pd.concat([test_data['PassengerId']])"
   ]
  },
  {
   "cell_type": "code",
   "execution_count": 44,
   "id": "alien-supply",
   "metadata": {},
   "outputs": [],
   "source": [
    "result=pd.DataFrame(np.array([test_data['PassengerId'], predictions]).T, columns=['PassengerId','Survived'])"
   ]
  },
  {
   "cell_type": "code",
   "execution_count": 47,
   "id": "protecting-medium",
   "metadata": {},
   "outputs": [],
   "source": [
    "result.to_csv('result.csv',index=False)"
   ]
  },
  {
   "cell_type": "code",
   "execution_count": 48,
   "id": "considerable-ministry",
   "metadata": {},
   "outputs": [
    {
     "name": "stdout",
     "output_type": "stream",
     "text": [
      "PassengerId,Survived\n",
      "892,0\n",
      "893,1\n",
      "894,0\n",
      "895,0\n",
      "896,1\n",
      "897,0\n",
      "898,1\n",
      "899,0\n",
      "900,1\n"
     ]
    }
   ],
   "source": [
    "!head result.csv"
   ]
  },
  {
   "cell_type": "code",
   "execution_count": 16,
   "id": "prostate-shanghai",
   "metadata": {},
   "outputs": [
    {
     "name": "stdout",
     "output_type": "stream",
     "text": [
      "Requirement already satisfied: jupyter-lsp in /home/2/18B17230/.local/lib/python3.6/site-packages (1.1.4)\n",
      "Requirement already satisfied: jupyter-server>=1.1.2 in /apps/t3/sles12sp4/free/jupyterlab/3.0.9/gcc4.8.5/python3.6.5/lib/python3.6/site-packages (from jupyter-lsp) (1.4.1)\n",
      "Requirement already satisfied: entrypoints in /apps/t3/sles12sp4/free/jupyterlab/3.0.9/gcc4.8.5/python3.6.5/lib/python3.6/site-packages (from jupyter-lsp) (0.3)\n",
      "Requirement already satisfied: nbformat in /apps/t3/sles12sp4/free/jupyterlab/3.0.9/gcc4.8.5/python3.6.5/lib/python3.6/site-packages (from jupyter-server>=1.1.2->jupyter-lsp) (5.1.2)\n",
      "Requirement already satisfied: Send2Trash in /apps/t3/sles12sp4/free/jupyterlab/3.0.9/gcc4.8.5/python3.6.5/lib/python3.6/site-packages (from jupyter-server>=1.1.2->jupyter-lsp) (1.5.0)\n",
      "Requirement already satisfied: jupyter-core>=4.4.0 in /apps/t3/sles12sp4/free/jupyterlab/3.0.9/gcc4.8.5/python3.6.5/lib/python3.6/site-packages (from jupyter-server>=1.1.2->jupyter-lsp) (4.7.1)\n",
      "Requirement already satisfied: jupyter-client>=6.1.1 in /apps/t3/sles12sp4/free/jupyterlab/3.0.9/gcc4.8.5/python3.6.5/lib/python3.6/site-packages (from jupyter-server>=1.1.2->jupyter-lsp) (6.1.11)\n",
      "Requirement already satisfied: tornado>=6.1.0 in /apps/t3/sles12sp4/free/jupyterlab/3.0.9/gcc4.8.5/python3.6.5/lib/python3.6/site-packages (from jupyter-server>=1.1.2->jupyter-lsp) (6.1)\n",
      "Requirement already satisfied: nbconvert in /apps/t3/sles12sp4/free/jupyterlab/3.0.9/gcc4.8.5/python3.6.5/lib/python3.6/site-packages (from jupyter-server>=1.1.2->jupyter-lsp) (6.0.7)\n",
      "Requirement already satisfied: pyzmq>=17 in /apps/t3/sles12sp4/free/jupyterlab/3.0.9/gcc4.8.5/python3.6.5/lib/python3.6/site-packages (from jupyter-server>=1.1.2->jupyter-lsp) (22.0.3)\n",
      "Requirement already satisfied: ipython-genutils in /apps/t3/sles12sp4/free/jupyterlab/3.0.9/gcc4.8.5/python3.6.5/lib/python3.6/site-packages (from jupyter-server>=1.1.2->jupyter-lsp) (0.2.0)\n",
      "Requirement already satisfied: jinja2 in /apps/t3/sles12sp4/free/jupyterlab/3.0.9/gcc4.8.5/python3.6.5/lib/python3.6/site-packages (from jupyter-server>=1.1.2->jupyter-lsp) (2.11.3)\n",
      "Requirement already satisfied: anyio>=2.0.2 in /apps/t3/sles12sp4/free/jupyterlab/3.0.9/gcc4.8.5/python3.6.5/lib/python3.6/site-packages (from jupyter-server>=1.1.2->jupyter-lsp) (2.1.0)\n",
      "Requirement already satisfied: prometheus-client in /apps/t3/sles12sp4/free/jupyterlab/3.0.9/gcc4.8.5/python3.6.5/lib/python3.6/site-packages (from jupyter-server>=1.1.2->jupyter-lsp) (0.9.0)\n",
      "Requirement already satisfied: terminado>=0.8.3 in /apps/t3/sles12sp4/free/jupyterlab/3.0.9/gcc4.8.5/python3.6.5/lib/python3.6/site-packages (from jupyter-server>=1.1.2->jupyter-lsp) (0.9.2)\n",
      "Requirement already satisfied: traitlets>=4.2.1 in /apps/t3/sles12sp4/free/jupyterlab/3.0.9/gcc4.8.5/python3.6.5/lib/python3.6/site-packages (from jupyter-server>=1.1.2->jupyter-lsp) (4.3.3)\n",
      "Requirement already satisfied: idna>=2.8 in /apps/t3/sles12sp4/free/jupyterlab/3.0.9/gcc4.8.5/python3.6.5/lib/python3.6/site-packages (from anyio>=2.0.2->jupyter-server>=1.1.2->jupyter-lsp) (2.10)\n",
      "Requirement already satisfied: typing-extensions in /apps/t3/sles12sp4/free/jupyterlab/3.0.9/gcc4.8.5/python3.6.5/lib/python3.6/site-packages (from anyio>=2.0.2->jupyter-server>=1.1.2->jupyter-lsp) (3.7.4.3)\n",
      "Requirement already satisfied: async-generator in /apps/t3/sles12sp4/free/jupyterlab/3.0.9/gcc4.8.5/python3.6.5/lib/python3.6/site-packages (from anyio>=2.0.2->jupyter-server>=1.1.2->jupyter-lsp) (1.10)\n",
      "Requirement already satisfied: sniffio>=1.1 in /apps/t3/sles12sp4/free/jupyterlab/3.0.9/gcc4.8.5/python3.6.5/lib/python3.6/site-packages (from anyio>=2.0.2->jupyter-server>=1.1.2->jupyter-lsp) (1.2.0)\n",
      "Requirement already satisfied: dataclasses in /apps/t3/sles12sp4/free/jupyterlab/3.0.9/gcc4.8.5/python3.6.5/lib/python3.6/site-packages (from anyio>=2.0.2->jupyter-server>=1.1.2->jupyter-lsp) (0.8)\n",
      "Requirement already satisfied: python-dateutil>=2.1 in /apps/t3/sles12sp4/free/jupyterlab/3.0.9/gcc4.8.5/python3.6.5/lib/python3.6/site-packages (from jupyter-client>=6.1.1->jupyter-server>=1.1.2->jupyter-lsp) (2.8.1)\n",
      "Requirement already satisfied: six>=1.5 in /apps/t3/sles12sp4/free/jupyterlab/3.0.9/gcc4.8.5/python3.6.5/lib/python3.6/site-packages (from python-dateutil>=2.1->jupyter-client>=6.1.1->jupyter-server>=1.1.2->jupyter-lsp) (1.15.0)\n",
      "Requirement already satisfied: contextvars>=2.1 in /apps/t3/sles12sp4/free/jupyterlab/3.0.9/gcc4.8.5/python3.6.5/lib/python3.6/site-packages (from sniffio>=1.1->anyio>=2.0.2->jupyter-server>=1.1.2->jupyter-lsp) (2.4)\n",
      "Requirement already satisfied: immutables>=0.9 in /apps/t3/sles12sp4/free/jupyterlab/3.0.9/gcc4.8.5/python3.6.5/lib/python3.6/site-packages (from contextvars>=2.1->sniffio>=1.1->anyio>=2.0.2->jupyter-server>=1.1.2->jupyter-lsp) (0.15)\n",
      "Requirement already satisfied: ptyprocess in /apps/t3/sles12sp4/free/jupyterlab/3.0.9/gcc4.8.5/python3.6.5/lib/python3.6/site-packages (from terminado>=0.8.3->jupyter-server>=1.1.2->jupyter-lsp) (0.7.0)\n",
      "Requirement already satisfied: decorator in /apps/t3/sles12sp4/free/jupyterlab/3.0.9/gcc4.8.5/python3.6.5/lib/python3.6/site-packages (from traitlets>=4.2.1->jupyter-server>=1.1.2->jupyter-lsp) (4.4.2)\n",
      "Requirement already satisfied: MarkupSafe>=0.23 in /apps/t3/sles12sp4/free/jupyterlab/3.0.9/gcc4.8.5/python3.6.5/lib/python3.6/site-packages (from jinja2->jupyter-server>=1.1.2->jupyter-lsp) (1.1.1)\n",
      "Requirement already satisfied: nbclient<0.6.0,>=0.5.0 in /apps/t3/sles12sp4/free/jupyterlab/3.0.9/gcc4.8.5/python3.6.5/lib/python3.6/site-packages (from nbconvert->jupyter-server>=1.1.2->jupyter-lsp) (0.5.2)\n",
      "Requirement already satisfied: mistune<2,>=0.8.1 in /apps/t3/sles12sp4/free/jupyterlab/3.0.9/gcc4.8.5/python3.6.5/lib/python3.6/site-packages (from nbconvert->jupyter-server>=1.1.2->jupyter-lsp) (0.8.4)\n",
      "Requirement already satisfied: testpath in /apps/t3/sles12sp4/free/jupyterlab/3.0.9/gcc4.8.5/python3.6.5/lib/python3.6/site-packages (from nbconvert->jupyter-server>=1.1.2->jupyter-lsp) (0.4.4)\n",
      "Requirement already satisfied: pandocfilters>=1.4.1 in /apps/t3/sles12sp4/free/jupyterlab/3.0.9/gcc4.8.5/python3.6.5/lib/python3.6/site-packages (from nbconvert->jupyter-server>=1.1.2->jupyter-lsp) (1.4.3)\n",
      "Requirement already satisfied: bleach in /apps/t3/sles12sp4/free/jupyterlab/3.0.9/gcc4.8.5/python3.6.5/lib/python3.6/site-packages (from nbconvert->jupyter-server>=1.1.2->jupyter-lsp) (3.3.0)\n",
      "Requirement already satisfied: defusedxml in /apps/t3/sles12sp4/free/jupyterlab/3.0.9/gcc4.8.5/python3.6.5/lib/python3.6/site-packages (from nbconvert->jupyter-server>=1.1.2->jupyter-lsp) (0.6.0)\n",
      "Requirement already satisfied: pygments>=2.4.1 in /apps/t3/sles12sp4/free/jupyterlab/3.0.9/gcc4.8.5/python3.6.5/lib/python3.6/site-packages (from nbconvert->jupyter-server>=1.1.2->jupyter-lsp) (2.8.0)\n",
      "Requirement already satisfied: jupyterlab-pygments in /apps/t3/sles12sp4/free/jupyterlab/3.0.9/gcc4.8.5/python3.6.5/lib/python3.6/site-packages (from nbconvert->jupyter-server>=1.1.2->jupyter-lsp) (0.1.2)\n",
      "Requirement already satisfied: nest-asyncio in /apps/t3/sles12sp4/free/jupyterlab/3.0.9/gcc4.8.5/python3.6.5/lib/python3.6/site-packages (from nbclient<0.6.0,>=0.5.0->nbconvert->jupyter-server>=1.1.2->jupyter-lsp) (1.5.1)\n",
      "Requirement already satisfied: jsonschema!=2.5.0,>=2.4 in /apps/t3/sles12sp4/free/jupyterlab/3.0.9/gcc4.8.5/python3.6.5/lib/python3.6/site-packages (from nbformat->jupyter-server>=1.1.2->jupyter-lsp) (3.2.0)\n",
      "Requirement already satisfied: pyrsistent>=0.14.0 in /apps/t3/sles12sp4/free/jupyterlab/3.0.9/gcc4.8.5/python3.6.5/lib/python3.6/site-packages (from jsonschema!=2.5.0,>=2.4->nbformat->jupyter-server>=1.1.2->jupyter-lsp) (0.17.3)\n",
      "Requirement already satisfied: setuptools in /apps/t3/sles12sp4/free/jupyterlab/3.0.9/gcc4.8.5/python3.6.5/lib/python3.6/site-packages (from jsonschema!=2.5.0,>=2.4->nbformat->jupyter-server>=1.1.2->jupyter-lsp) (53.0.0)\n",
      "Requirement already satisfied: importlib-metadata in /apps/t3/sles12sp4/free/jupyterlab/3.0.9/gcc4.8.5/python3.6.5/lib/python3.6/site-packages (from jsonschema!=2.5.0,>=2.4->nbformat->jupyter-server>=1.1.2->jupyter-lsp) (3.7.0)\n",
      "Requirement already satisfied: attrs>=17.4.0 in /apps/t3/sles12sp4/free/jupyterlab/3.0.9/gcc4.8.5/python3.6.5/lib/python3.6/site-packages (from jsonschema!=2.5.0,>=2.4->nbformat->jupyter-server>=1.1.2->jupyter-lsp) (20.3.0)\n",
      "Requirement already satisfied: packaging in /apps/t3/sles12sp4/free/jupyterlab/3.0.9/gcc4.8.5/python3.6.5/lib/python3.6/site-packages (from bleach->nbconvert->jupyter-server>=1.1.2->jupyter-lsp) (20.9)\n",
      "Requirement already satisfied: webencodings in /apps/t3/sles12sp4/free/jupyterlab/3.0.9/gcc4.8.5/python3.6.5/lib/python3.6/site-packages (from bleach->nbconvert->jupyter-server>=1.1.2->jupyter-lsp) (0.5.1)\n",
      "Requirement already satisfied: zipp>=0.5 in /apps/t3/sles12sp4/free/jupyterlab/3.0.9/gcc4.8.5/python3.6.5/lib/python3.6/site-packages (from importlib-metadata->jsonschema!=2.5.0,>=2.4->nbformat->jupyter-server>=1.1.2->jupyter-lsp) (3.4.0)\n",
      "Requirement already satisfied: pyparsing>=2.0.2 in /apps/t3/sles12sp4/free/jupyterlab/3.0.9/gcc4.8.5/python3.6.5/lib/python3.6/site-packages (from packaging->bleach->nbconvert->jupyter-server>=1.1.2->jupyter-lsp) (2.4.7)\n"
     ]
    }
   ],
   "source": [
    "! python3 -m pip install --user jupyter-lsp"
   ]
  },
  {
   "cell_type": "code",
   "execution_count": 8,
   "id": "iraqi-publicity",
   "metadata": {},
   "outputs": [],
   "source": [
    "y_Data=train_data['Survived']"
   ]
  },
  {
   "cell_type": "code",
   "execution_count": 11,
   "id": "legendary-tennis",
   "metadata": {},
   "outputs": [],
   "source": [
    "train_data = pd.read_csv(\"../input/titanic/train.csv\")\n",
    "# 特徴量\n",
    "train_data= train_data[['Pclass', 'Sex', 'Age', 'SibSp', 'Parch', 'Fare', 'Embarked']]\n",
    "train_data=pd.get_dummies(train_data, columns=['Sex','Embarked'])\n",
    "# null埋め\n",
    "X_Data=train_data.fillna(train_data.median())"
   ]
  },
  {
   "cell_type": "code",
   "execution_count": 12,
   "id": "pressed-bumper",
   "metadata": {},
   "outputs": [
    {
     "data": {
      "text/plain": [
       "891"
      ]
     },
     "execution_count": 12,
     "metadata": {},
     "output_type": "execute_result"
    }
   ],
   "source": [
    "len(y_Data)"
   ]
  },
  {
   "cell_type": "code",
   "execution_count": 14,
   "id": "external-distribution",
   "metadata": {},
   "outputs": [],
   "source": [
    "from sklearn.model_selection import KFold, cross_val_predict"
   ]
  },
  {
   "cell_type": "code",
   "execution_count": 15,
   "id": "crucial-fever",
   "metadata": {},
   "outputs": [],
   "source": [
    "from optuna.integration import lightgbm as lgb_tuna\n",
    "import lightgbm as lgb\n",
    "from lightgbm import LGBMRegressorC"
   ]
  },
  {
   "cell_type": "code",
   "execution_count": null,
   "id": "electrical-louisville",
   "metadata": {},
   "outputs": [],
   "source": [
    "lgbm_reg=LGBMRegressor()\n",
    "lgbm_reg.fit(train_X,train_Y)"
   ]
  }
 ],
 "metadata": {
  "kernelspec": {
   "display_name": "Python 3",
   "language": "python",
   "name": "python3"
  },
  "language_info": {
   "codemirror_mode": {
    "name": "ipython",
    "version": 3
   },
   "file_extension": ".py",
   "mimetype": "text/x-python",
   "name": "python",
   "nbconvert_exporter": "python",
   "pygments_lexer": "ipython3",
   "version": "3.6.5"
  }
 },
 "nbformat": 4,
 "nbformat_minor": 5
}
